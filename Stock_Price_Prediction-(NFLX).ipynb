{
 "cells": [
  {
   "cell_type": "code",
   "execution_count": 31,
   "id": "373e92dd",
   "metadata": {},
   "outputs": [],
   "source": [
    "#!pip install tensorflow"
   ]
  },
  {
   "cell_type": "code",
   "execution_count": 43,
   "id": "5b0f665d",
   "metadata": {},
   "outputs": [],
   "source": [
    "import pandas as pd\n",
    "import pandas_datareader as web\n",
    "import numpy as np\n",
    "import math\n",
    "import datetime as dt\n",
    "from datetime import timedelta\n",
    "from  matplotlib import pyplot as plt\n",
    "plt.style.use =('fivethirtyeight')\n",
    "\n",
    "from sklearn.preprocessing import MinMaxScaler\n",
    "from keras.models import Sequential\n",
    "from keras.layers import Dense, LSTM\n",
    "from keras.layers import Dropout\n"
   ]
  },
  {
   "cell_type": "code",
   "execution_count": 44,
   "id": "43102f12",
   "metadata": {},
   "outputs": [],
   "source": [
    "company = 'NFLX'\n",
    "start = dt.datetime(2012,1,1)\n",
    "end = dt.datetime(2022,1,1)\n",
    "df = web.DataReader(company, 'yahoo', start, end)"
   ]
  },
  {
   "cell_type": "code",
   "execution_count": 45,
   "id": "fe875f93",
   "metadata": {},
   "outputs": [
    {
     "data": {
      "text/html": [
       "<div>\n",
       "<style scoped>\n",
       "    .dataframe tbody tr th:only-of-type {\n",
       "        vertical-align: middle;\n",
       "    }\n",
       "\n",
       "    .dataframe tbody tr th {\n",
       "        vertical-align: top;\n",
       "    }\n",
       "\n",
       "    .dataframe thead th {\n",
       "        text-align: right;\n",
       "    }\n",
       "</style>\n",
       "<table border=\"1\" class=\"dataframe\">\n",
       "  <thead>\n",
       "    <tr style=\"text-align: right;\">\n",
       "      <th></th>\n",
       "      <th>High</th>\n",
       "      <th>Low</th>\n",
       "      <th>Open</th>\n",
       "      <th>Close</th>\n",
       "      <th>Volume</th>\n",
       "      <th>Adj Close</th>\n",
       "    </tr>\n",
       "    <tr>\n",
       "      <th>Date</th>\n",
       "      <th></th>\n",
       "      <th></th>\n",
       "      <th></th>\n",
       "      <th></th>\n",
       "      <th></th>\n",
       "      <th></th>\n",
       "    </tr>\n",
       "  </thead>\n",
       "  <tbody>\n",
       "    <tr>\n",
       "      <th>2012-01-03</th>\n",
       "      <td>10.388571</td>\n",
       "      <td>10.018571</td>\n",
       "      <td>10.040000</td>\n",
       "      <td>10.320000</td>\n",
       "      <td>29213800.0</td>\n",
       "      <td>10.320000</td>\n",
       "    </tr>\n",
       "    <tr>\n",
       "      <th>2012-01-04</th>\n",
       "      <td>11.567143</td>\n",
       "      <td>10.258571</td>\n",
       "      <td>10.335714</td>\n",
       "      <td>11.492857</td>\n",
       "      <td>100489900.0</td>\n",
       "      <td>11.492857</td>\n",
       "    </tr>\n",
       "    <tr>\n",
       "      <th>2012-01-05</th>\n",
       "      <td>11.694286</td>\n",
       "      <td>11.040000</td>\n",
       "      <td>11.345714</td>\n",
       "      <td>11.328571</td>\n",
       "      <td>86552900.0</td>\n",
       "      <td>11.328571</td>\n",
       "    </tr>\n",
       "    <tr>\n",
       "      <th>2012-01-06</th>\n",
       "      <td>12.471429</td>\n",
       "      <td>11.242857</td>\n",
       "      <td>11.302857</td>\n",
       "      <td>12.327143</td>\n",
       "      <td>125610800.0</td>\n",
       "      <td>12.327143</td>\n",
       "    </tr>\n",
       "    <tr>\n",
       "      <th>2012-01-09</th>\n",
       "      <td>14.235714</td>\n",
       "      <td>12.448571</td>\n",
       "      <td>12.801429</td>\n",
       "      <td>14.025714</td>\n",
       "      <td>214073300.0</td>\n",
       "      <td>14.025714</td>\n",
       "    </tr>\n",
       "  </tbody>\n",
       "</table>\n",
       "</div>"
      ],
      "text/plain": [
       "                 High        Low       Open      Close       Volume  Adj Close\n",
       "Date                                                                          \n",
       "2012-01-03  10.388571  10.018571  10.040000  10.320000   29213800.0  10.320000\n",
       "2012-01-04  11.567143  10.258571  10.335714  11.492857  100489900.0  11.492857\n",
       "2012-01-05  11.694286  11.040000  11.345714  11.328571   86552900.0  11.328571\n",
       "2012-01-06  12.471429  11.242857  11.302857  12.327143  125610800.0  12.327143\n",
       "2012-01-09  14.235714  12.448571  12.801429  14.025714  214073300.0  14.025714"
      ]
     },
     "execution_count": 45,
     "metadata": {},
     "output_type": "execute_result"
    }
   ],
   "source": [
    "df.head()"
   ]
  },
  {
   "cell_type": "code",
   "execution_count": 46,
   "id": "fe9f1ef4",
   "metadata": {},
   "outputs": [
    {
     "data": {
      "text/html": [
       "<div>\n",
       "<style scoped>\n",
       "    .dataframe tbody tr th:only-of-type {\n",
       "        vertical-align: middle;\n",
       "    }\n",
       "\n",
       "    .dataframe tbody tr th {\n",
       "        vertical-align: top;\n",
       "    }\n",
       "\n",
       "    .dataframe thead th {\n",
       "        text-align: right;\n",
       "    }\n",
       "</style>\n",
       "<table border=\"1\" class=\"dataframe\">\n",
       "  <thead>\n",
       "    <tr style=\"text-align: right;\">\n",
       "      <th></th>\n",
       "      <th>High</th>\n",
       "      <th>Low</th>\n",
       "      <th>Open</th>\n",
       "      <th>Close</th>\n",
       "      <th>Volume</th>\n",
       "      <th>Adj Close</th>\n",
       "    </tr>\n",
       "    <tr>\n",
       "      <th>Date</th>\n",
       "      <th></th>\n",
       "      <th></th>\n",
       "      <th></th>\n",
       "      <th></th>\n",
       "      <th></th>\n",
       "      <th></th>\n",
       "    </tr>\n",
       "  </thead>\n",
       "  <tbody>\n",
       "    <tr>\n",
       "      <th>2021-12-17</th>\n",
       "      <td>593.250000</td>\n",
       "      <td>581.739990</td>\n",
       "      <td>591.609985</td>\n",
       "      <td>586.729980</td>\n",
       "      <td>4386900.0</td>\n",
       "      <td>586.729980</td>\n",
       "    </tr>\n",
       "    <tr>\n",
       "      <th>2021-12-20</th>\n",
       "      <td>602.880005</td>\n",
       "      <td>584.260010</td>\n",
       "      <td>586.429993</td>\n",
       "      <td>593.739990</td>\n",
       "      <td>3358400.0</td>\n",
       "      <td>593.739990</td>\n",
       "    </tr>\n",
       "    <tr>\n",
       "      <th>2021-12-21</th>\n",
       "      <td>607.820007</td>\n",
       "      <td>593.859985</td>\n",
       "      <td>597.539978</td>\n",
       "      <td>604.919983</td>\n",
       "      <td>2319400.0</td>\n",
       "      <td>604.919983</td>\n",
       "    </tr>\n",
       "    <tr>\n",
       "      <th>2021-12-22</th>\n",
       "      <td>614.820007</td>\n",
       "      <td>602.630005</td>\n",
       "      <td>603.359985</td>\n",
       "      <td>614.239990</td>\n",
       "      <td>2335700.0</td>\n",
       "      <td>614.239990</td>\n",
       "    </tr>\n",
       "    <tr>\n",
       "      <th>2021-12-23</th>\n",
       "      <td>616.880005</td>\n",
       "      <td>607.570007</td>\n",
       "      <td>616.400024</td>\n",
       "      <td>614.090027</td>\n",
       "      <td>1621100.0</td>\n",
       "      <td>614.090027</td>\n",
       "    </tr>\n",
       "    <tr>\n",
       "      <th>2021-12-27</th>\n",
       "      <td>615.000000</td>\n",
       "      <td>609.250000</td>\n",
       "      <td>615.000000</td>\n",
       "      <td>613.119995</td>\n",
       "      <td>2061500.0</td>\n",
       "      <td>613.119995</td>\n",
       "    </tr>\n",
       "    <tr>\n",
       "      <th>2021-12-28</th>\n",
       "      <td>618.409973</td>\n",
       "      <td>609.690002</td>\n",
       "      <td>614.950012</td>\n",
       "      <td>610.710022</td>\n",
       "      <td>1882800.0</td>\n",
       "      <td>610.710022</td>\n",
       "    </tr>\n",
       "    <tr>\n",
       "      <th>2021-12-29</th>\n",
       "      <td>613.979980</td>\n",
       "      <td>604.679993</td>\n",
       "      <td>610.710022</td>\n",
       "      <td>610.539978</td>\n",
       "      <td>1287200.0</td>\n",
       "      <td>610.539978</td>\n",
       "    </tr>\n",
       "    <tr>\n",
       "      <th>2021-12-30</th>\n",
       "      <td>620.609985</td>\n",
       "      <td>611.239990</td>\n",
       "      <td>612.989990</td>\n",
       "      <td>612.090027</td>\n",
       "      <td>1625100.0</td>\n",
       "      <td>612.090027</td>\n",
       "    </tr>\n",
       "    <tr>\n",
       "      <th>2021-12-31</th>\n",
       "      <td>614.080017</td>\n",
       "      <td>602.049988</td>\n",
       "      <td>610.010010</td>\n",
       "      <td>602.440002</td>\n",
       "      <td>1995900.0</td>\n",
       "      <td>602.440002</td>\n",
       "    </tr>\n",
       "  </tbody>\n",
       "</table>\n",
       "</div>"
      ],
      "text/plain": [
       "                  High         Low        Open       Close     Volume  \\\n",
       "Date                                                                    \n",
       "2021-12-17  593.250000  581.739990  591.609985  586.729980  4386900.0   \n",
       "2021-12-20  602.880005  584.260010  586.429993  593.739990  3358400.0   \n",
       "2021-12-21  607.820007  593.859985  597.539978  604.919983  2319400.0   \n",
       "2021-12-22  614.820007  602.630005  603.359985  614.239990  2335700.0   \n",
       "2021-12-23  616.880005  607.570007  616.400024  614.090027  1621100.0   \n",
       "2021-12-27  615.000000  609.250000  615.000000  613.119995  2061500.0   \n",
       "2021-12-28  618.409973  609.690002  614.950012  610.710022  1882800.0   \n",
       "2021-12-29  613.979980  604.679993  610.710022  610.539978  1287200.0   \n",
       "2021-12-30  620.609985  611.239990  612.989990  612.090027  1625100.0   \n",
       "2021-12-31  614.080017  602.049988  610.010010  602.440002  1995900.0   \n",
       "\n",
       "             Adj Close  \n",
       "Date                    \n",
       "2021-12-17  586.729980  \n",
       "2021-12-20  593.739990  \n",
       "2021-12-21  604.919983  \n",
       "2021-12-22  614.239990  \n",
       "2021-12-23  614.090027  \n",
       "2021-12-27  613.119995  \n",
       "2021-12-28  610.710022  \n",
       "2021-12-29  610.539978  \n",
       "2021-12-30  612.090027  \n",
       "2021-12-31  602.440002  "
      ]
     },
     "execution_count": 46,
     "metadata": {},
     "output_type": "execute_result"
    }
   ],
   "source": [
    "df.tail(10)"
   ]
  },
  {
   "cell_type": "code",
   "execution_count": 47,
   "id": "d2ea7f07",
   "metadata": {},
   "outputs": [
    {
     "data": {
      "text/plain": [
       "(2517, 6)"
      ]
     },
     "execution_count": 47,
     "metadata": {},
     "output_type": "execute_result"
    }
   ],
   "source": [
    "df.shape"
   ]
  },
  {
   "cell_type": "code",
   "execution_count": 48,
   "id": "5e8cdda2",
   "metadata": {},
   "outputs": [
    {
     "data": {
      "text/plain": [
       "<function matplotlib.pyplot.show(close=None, block=None)>"
      ]
     },
     "execution_count": 48,
     "metadata": {},
     "output_type": "execute_result"
    },
    {
     "data": {
      "image/png": "[encoded data removed]",
      "text/plain": [
       "<Figure size 1152x576 with 1 Axes>"
      ]
     },
     "metadata": {
      "needs_background": "light"
     },
     "output_type": "display_data"
    }
   ],
   "source": [
    "plt.figure(figsize=(16,8))\n",
    "plt.plot(df['Close'])\n",
    "plt.plot(df['Open'])\n",
    "plt.legend(['Close','Open'], loc='upper left')\n",
    "plt.xlabel('date', fontsize=18)\n",
    "plt.title('Close Stock Price Histroy Diagram', fontsize=20)\n",
    "plt.ylabel('Close price in USD ($)', fontsize=18)\n",
    "plt.show"
   ]
  },
  {
   "cell_type": "code",
   "execution_count": 49,
   "id": "3e85a5e4",
   "metadata": {},
   "outputs": [
    {
     "data": {
      "text/plain": [
       "(2517, 6)"
      ]
     },
     "execution_count": 49,
     "metadata": {},
     "output_type": "execute_result"
    }
   ],
   "source": [
    "\n",
    "df.shape"
   ]
  },
  {
   "cell_type": "code",
   "execution_count": 50,
   "id": "bda7cf8a",
   "metadata": {},
   "outputs": [],
   "source": [
    "#scalling the data / converting data between 0 and 1\n",
    "scaler = MinMaxScaler(feature_range=(0,1))"
   ]
  },
  {
   "cell_type": "code",
   "execution_count": 51,
   "id": "ede33ce6",
   "metadata": {},
   "outputs": [],
   "source": [
    "scaled_data = scaler.fit_transform(df['Close'].values.reshape(-1,1))"
   ]
  },
  {
   "cell_type": "code",
   "execution_count": 52,
   "id": "d95f2c54",
   "metadata": {},
   "outputs": [
    {
     "name": "stdout",
     "output_type": "stream",
     "text": [
      "[array([0.00385127, 0.00556596, 0.00532578, 0.00678567, 0.00926895,\n",
      "       0.00877814, 0.00800956, 0.00800956, 0.0084753 , 0.00854631,\n",
      "       0.00934414, 0.0103717 , 0.00969919, 0.00838758, 0.00811816,\n",
      "       0.00861315, 0.01299282, 0.0146177 , 0.01496022, 0.01386792,\n",
      "       0.01444644, 0.01466156, 0.01516908, 0.01575805, 0.01547192,\n",
      "       0.01466156, 0.014837  , 0.01464694, 0.01347109, 0.01446733,\n",
      "       0.01425639, 0.01422506, 0.01421253, 0.01328313, 0.01223885,\n",
      "       0.01236208, 0.01208639, 0.01161438, 0.012431  , 0.01189007,\n",
      "       0.01231195, 0.01280276, 0.01190678, 0.01113819, 0.01073302,\n",
      "       0.01133452, 0.0115559 , 0.01094396, 0.01097529, 0.01074555,\n",
      "       0.01177311, 0.01172925, 0.01264194, 0.01278605, 0.01384703,\n",
      "       0.0135609 , 0.01386583, 0.01424177, 0.01396608, 0.01357761])]\n",
      "[0.012792318847363655]\n"
     ]
    }
   ],
   "source": [
    "#spliting data into trainset and test set\n",
    "prediction_days = 60\n",
    "x_train = []\n",
    "y_train = []\n",
    "\n",
    "for i in range(prediction_days, len(scaled_data)):\n",
    "    x_train.append(scaled_data[i-prediction_days:i,0])\n",
    "    y_train.append(scaled_data[i,0])\n",
    "    if i<=prediction_days:\n",
    "        print(x_train)\n",
    "        print(y_train)"
   ]
  },
  {
   "cell_type": "code",
   "execution_count": 53,
   "id": "7af59d5a",
   "metadata": {},
   "outputs": [],
   "source": [
    "x_train, y_train = np.array(x_train), np.array(y_train)"
   ]
  },
  {
   "cell_type": "code",
   "execution_count": 54,
   "id": "375ec5f0",
   "metadata": {},
   "outputs": [
    {
     "data": {
      "text/plain": [
       "((2457, 60), (2457,))"
      ]
     },
     "execution_count": 54,
     "metadata": {},
     "output_type": "execute_result"
    }
   ],
   "source": [
    "x_train.shape, y_train.shape"
   ]
  },
  {
   "cell_type": "code",
   "execution_count": 55,
   "id": "4f1c97e3",
   "metadata": {},
   "outputs": [],
   "source": [
    "x_train = np.reshape(x_train,(x_train.shape[0], x_train.shape[1],1))"
   ]
  },
  {
   "cell_type": "code",
   "execution_count": 56,
   "id": "98c543ad",
   "metadata": {},
   "outputs": [
    {
     "data": {
      "text/plain": [
       "(2457, 60, 1)"
      ]
     },
     "execution_count": 56,
     "metadata": {},
     "output_type": "execute_result"
    }
   ],
   "source": [
    "x_train.shape\n"
   ]
  },
  {
   "cell_type": "code",
   "execution_count": 59,
   "id": "e5624d32",
   "metadata": {},
   "outputs": [],
   "source": [
    "#building the model\n",
    "model = Sequential()\n",
    "\n",
    "model.add(LSTM(units=50, return_sequences = True, input_shape=(x_train.shape[1], 1)))\n",
    "model.add(Dropout(0.2))\n",
    "\n",
    "model.add(LSTM(units=50, return_sequences= True ))\n",
    "model.add(Dropout(0.2))\n",
    "\n",
    "model.add(LSTM(units=50, return_sequences= True ))\n",
    "model.add(Dropout(0.2))\n",
    "\n",
    "model.add(LSTM(units=50))\n",
    "model.add(Dropout(0.2))\n",
    "\n",
    "\n",
    "model.add(Dense(1))"
   ]
  },
  {
   "cell_type": "code",
   "execution_count": 62,
   "id": "e6dbd59b",
   "metadata": {},
   "outputs": [],
   "source": [
    "model.compile(optimizer='adam', loss ='mean_squared_error', metrics= 'accuracy')"
   ]
  },
  {
   "cell_type": "code",
   "execution_count": null,
   "id": "f0d3c8d0",
   "metadata": {},
   "outputs": [
    {
     "name": "stdout",
     "output_type": "stream",
     "text": [
      "Epoch 1/10\n",
      "58/77 [=====================>........] - ETA: 3s - loss: 0.0022 - accuracy: 0.0011"
     ]
    }
   ],
   "source": [
    "model.fit(x_train, y_train ,batch_size=32 , epochs=10)"
   ]
  },
  {
   "cell_type": "code",
   "execution_count": 32,
   "id": "11f95c3d",
   "metadata": {},
   "outputs": [],
   "source": [
    "# creating test data\n",
    "test_start = dt.datetime(2020,1,1)\n",
    "test_end = dt.datetime.now()\n",
    "test_data = web.DataReader(company, 'yahoo', test_start, test_end)\n",
    "\n",
    "actual_price = test_data['Close'].values\n",
    "total_dataset = pd.concat((df['Close'], test_data['Close']), axis=0)\n"
   ]
  },
  {
   "cell_type": "code",
   "execution_count": 33,
   "id": "ab956fb8",
   "metadata": {},
   "outputs": [],
   "source": [
    "model_inputs = total_dataset[len(total_dataset)-len(test_data)-prediction_days:].values\n",
    "\n",
    "model_inputs = model_inputs.reshape(-1,1)\n",
    "model_inputs = scaler.transform(model_inputs)\n"
   ]
  },
  {
   "cell_type": "code",
   "execution_count": 34,
   "id": "e2e8ab27",
   "metadata": {},
   "outputs": [],
   "source": [
    "x_test=[]\n",
    "\n",
    "for i in range(prediction_days, len(model_inputs)):\n",
    "    x_test.append(model_inputs[i-prediction_days:i,0])\n",
    "\n",
    "\n",
    "x_test = np.array(x_test)\n",
    "x_test = np.reshape(x_test,( x_test.shape[0], x_test.shape[1],1))\n"
   ]
  },
  {
   "cell_type": "code",
   "execution_count": 35,
   "id": "ac86738f",
   "metadata": {},
   "outputs": [],
   "source": [
    "predicted_price = model.predict(x_test)\n",
    "predicted_price = scaler.inverse_transform(predicted_price)"
   ]
  },
  {
   "cell_type": "code",
   "execution_count": null,
   "id": "67d24e49",
   "metadata": {},
   "outputs": [],
   "source": []
  },
  {
   "cell_type": "code",
   "execution_count": 36,
   "id": "720778a5",
   "metadata": {},
   "outputs": [
    {
     "data": {
      "text/plain": [
       "<function matplotlib.pyplot.show(close=None, block=None)>"
      ]
     },
     "execution_count": 36,
     "metadata": {},
     "output_type": "execute_result"
    },
    {
     "data": {
      "image/png": "[encoded data removed]",
      "text/plain": [
       "<Figure size 1152x576 with 1 Axes>"
      ]
     },
     "metadata": {
      "needs_background": "light"
     },
     "output_type": "display_data"
    }
   ],
   "source": [
    "plt.figure(figsize=(16,8))\n",
    "plt.plot(actual_price, color='blue', label=f\"actual {company} price\")\n",
    "plt.plot(predicted_price, color='green', label=f\"predicted {company} price\")\n",
    "plt.title(f\"actual and predicted price of {company} company\" )\n",
    "plt.xlabel('Time')\n",
    "plt.ylabel(f\"{company} share price\")\n",
    "plt.legend()\n",
    "plt.show"
   ]
  },
  {
   "cell_type": "markdown",
   "id": "b12732f6",
   "metadata": {},
   "source": [
    "# predict the next day"
   ]
  },
  {
   "cell_type": "code",
   "execution_count": 41,
   "id": "bdb49d01",
   "metadata": {},
   "outputs": [
    {
     "data": {
      "text/plain": [
       "(1, 59, 1)"
      ]
     },
     "execution_count": 41,
     "metadata": {},
     "output_type": "execute_result"
    }
   ],
   "source": [
    "real_data =[model_inputs[len(model_inputs) + 1 - prediction_days:len(model_inputs +1), 0 ]]\n",
    "\n",
    "real_data = np.array(real_data)\n",
    "real_data = np.reshape(real_data,( real_data.shape[0], real_data.shape[1], 1))\n",
    "\n",
    "real_data.shape"
   ]
  },
  {
   "cell_type": "code",
   "execution_count": 42,
   "id": "5b60babe",
   "metadata": {},
   "outputs": [
    {
     "name": "stdout",
     "output_type": "stream",
     "text": [
      "Yesterdays Price: 357.17999267578125 2022-04-11 17:07:38.276967\n",
      "Prediction Price: [[368.22986]] 2022-04-12 17:07:38.277500\n"
     ]
    }
   ],
   "source": [
    "prediction = model.predict(real_data)\n",
    "prediction = scaler.inverse_transform(prediction)\n",
    "\n",
    "\n",
    "\n",
    "yesterday_data = actual_price[-1]\n",
    "yesterday_date = dt.datetime.now() - timedelta(days=1)\n",
    "\n",
    "print(f\"Yesterdays Price: {yesterday_data}\", yesterday_date)\n",
    "print(f\"Prediction Price: {prediction}\", dt.datetime.now())"
   ]
  },
  {
   "cell_type": "code",
   "execution_count": 1368,
   "id": "f1c8629e",
   "metadata": {},
   "outputs": [
    {
     "data": {
      "text/plain": [
       "\"appel_quoto = web.DataReader('AAPL', 'yahoo', test_start, test_end)\\nnew_df = appel_quoto.filter(['Close'])\\nlast_60_days = new_df[-60:].values\\nlast_60_days_scaled = scaler.transform(last_60_days)\\nX_test=[]\\nX_test.append(last_60_days_scaled)\\nX_test = np.array(X_test)\\nX_test = np.reshape(X_test,(X_test.shape[0], X_test.shape[1], 1))\\npred_price = model.predict(X_test)\\npred_price = scaler.inverse_transform(pred_price)\\nprint(pred_price)\\n\""
      ]
     },
     "execution_count": 1368,
     "metadata": {},
     "output_type": "execute_result"
    }
   ],
   "source": [
    "'''appel_quoto = web.DataReader('AAPL', 'yahoo', test_start, test_end)\n",
    "new_df = appel_quoto.filter(['Close'])\n",
    "last_60_days = new_df[-60:].values\n",
    "last_60_days_scaled = scaler.transform(last_60_days)\n",
    "X_test=[]\n",
    "X_test.append(last_60_days_scaled)\n",
    "X_test = np.array(X_test)\n",
    "X_test = np.reshape(X_test,(X_test.shape[0], X_test.shape[1], 1))\n",
    "pred_price = model.predict(X_test)\n",
    "pred_price = scaler.inverse_transform(pred_price)\n",
    "print(pred_price)\n",
    "'''"
   ]
  },
  {
   "cell_type": "code",
   "execution_count": 1369,
   "id": "d742aa38",
   "metadata": {},
   "outputs": [],
   "source": [
    "#yesterday = dt.datetime.now() - timedelta(days=1)\n",
    "#apple_quat2 = web.DataReader('AAPL', 'yahoo', yesterday, test_end)\n",
    "#yesterday = new_df[-1:]\n",
    "#print(apple_quat2['Close'])"
   ]
  },
  {
   "cell_type": "code",
   "execution_count": 1370,
   "id": "c2fdd291",
   "metadata": {},
   "outputs": [
    {
     "name": "stdout",
     "output_type": "stream",
     "text": [
      "Model: \"sequential_40\"\n",
      "_________________________________________________________________\n",
      " Layer (type)                Output Shape              Param #   \n",
      "=================================================================\n",
      " lstm_115 (LSTM)             (None, 60, 50)            10400     \n",
      "                                                                 \n",
      " dropout_81 (Dropout)        (None, 60, 50)            0         \n",
      "                                                                 \n",
      " lstm_116 (LSTM)             (None, 60, 50)            20200     \n",
      "                                                                 \n",
      " dropout_82 (Dropout)        (None, 60, 50)            0         \n",
      "                                                                 \n",
      " lstm_117 (LSTM)             (None, 50)                20200     \n",
      "                                                                 \n",
      " dropout_83 (Dropout)        (None, 50)                0         \n",
      "                                                                 \n",
      " dense_62 (Dense)            (None, 1)                 51        \n",
      "                                                                 \n",
      "=================================================================\n",
      "Total params: 50,851\n",
      "Trainable params: 50,851\n",
      "Non-trainable params: 0\n",
      "_________________________________________________________________\n"
     ]
    }
   ],
   "source": [
    "model.summary()"
   ]
  },
  {
   "cell_type": "code",
   "execution_count": null,
   "id": "4b289983",
   "metadata": {},
   "outputs": [],
   "source": []
  },
  {
   "cell_type": "code",
   "execution_count": null,
   "id": "855d4259",
   "metadata": {},
   "outputs": [],
   "source": []
  },
  {
   "cell_type": "code",
   "execution_count": null,
   "id": "4a65f5ac",
   "metadata": {},
   "outputs": [],
   "source": []
  },
  {
   "cell_type": "code",
   "execution_count": null,
   "id": "9a858139",
   "metadata": {},
   "outputs": [],
   "source": []
  },
  {
   "cell_type": "code",
   "execution_count": null,
   "id": "84b107f3",
   "metadata": {},
   "outputs": [],
   "source": []
  },
  {
   "cell_type": "code",
   "execution_count": null,
   "id": "e821b9c7",
   "metadata": {},
   "outputs": [],
   "source": []
  },
  {
   "cell_type": "code",
   "execution_count": null,
   "id": "beb5c92a",
   "metadata": {},
   "outputs": [],
   "source": []
  },
  {
   "cell_type": "code",
   "execution_count": null,
   "id": "bf2540ac",
   "metadata": {},
   "outputs": [],
   "source": []
  },
  {
   "cell_type": "code",
   "execution_count": null,
   "id": "94b5e2be",
   "metadata": {},
   "outputs": [],
   "source": []
  }
 ],
 "metadata": {
  "kernelspec": {
   "display_name": "Python 3",
   "language": "python",
   "name": "python3"
  },
  "language_info": {
   "codemirror_mode": {
    "name": "ipython",
    "version": 3
   },
   "file_extension": ".py",
   "mimetype": "text/x-python",
   "name": "python",
   "nbconvert_exporter": "python",
   "pygments_lexer": "ipython3",
   "version": "3.8.8"
  }
 },
 "nbformat": 4,
 "nbformat_minor": 5
}
