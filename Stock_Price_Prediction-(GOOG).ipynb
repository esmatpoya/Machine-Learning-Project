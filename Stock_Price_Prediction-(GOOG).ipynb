{
 "cells": [
  {
   "cell_type": "code",
   "execution_count": 31,
   "id": "373e92dd",
   "metadata": {},
   "outputs": [],
   "source": [
    "#!pip install tensorflow"
   ]
  },
  {
   "cell_type": "code",
   "execution_count": 1333,
   "id": "5b0f665d",
   "metadata": {},
   "outputs": [],
   "source": [
    "import pandas as pd\n",
    "import pandas_datareader as web\n",
    "import numpy as np\n",
    "import math\n",
    "import datetime as dt\n",
    "from datetime import timedelta\n",
    "from  matplotlib import pyplot as plt\n",
    "plt.style.use =('fivethirtyeight')\n",
    "\n",
    "from sklearn.preprocessing import MinMaxScaler\n",
    "from keras.models import Sequential\n",
    "from keras.layers import Dense, LSTM\n",
    "from keras.layers import Dropout\n"
   ]
  },
  {
   "cell_type": "code",
   "execution_count": 1334,
   "id": "43102f12",
   "metadata": {},
   "outputs": [],
   "source": [
    "company = 'AAPL'\n",
    "start = dt.datetime(2012,1,1)\n",
    "end = dt.datetime(2022,1,1)\n",
    "df = web.DataReader(company, 'yahoo', start, end)"
   ]
  },
  {
   "cell_type": "code",
   "execution_count": 1335,
   "id": "fe875f93",
   "metadata": {},
   "outputs": [
    {
     "data": {
      "text/html": [
       "<div>\n",
       "<style scoped>\n",
       "    .dataframe tbody tr th:only-of-type {\n",
       "        vertical-align: middle;\n",
       "    }\n",
       "\n",
       "    .dataframe tbody tr th {\n",
       "        vertical-align: top;\n",
       "    }\n",
       "\n",
       "    .dataframe thead th {\n",
       "        text-align: right;\n",
       "    }\n",
       "</style>\n",
       "<table border=\"1\" class=\"dataframe\">\n",
       "  <thead>\n",
       "    <tr style=\"text-align: right;\">\n",
       "      <th></th>\n",
       "      <th>High</th>\n",
       "      <th>Low</th>\n",
       "      <th>Open</th>\n",
       "      <th>Close</th>\n",
       "      <th>Volume</th>\n",
       "      <th>Adj Close</th>\n",
       "    </tr>\n",
       "    <tr>\n",
       "      <th>Date</th>\n",
       "      <th></th>\n",
       "      <th></th>\n",
       "      <th></th>\n",
       "      <th></th>\n",
       "      <th></th>\n",
       "      <th></th>\n",
       "    </tr>\n",
       "  </thead>\n",
       "  <tbody>\n",
       "    <tr>\n",
       "      <th>2012-01-03</th>\n",
       "      <td>14.732143</td>\n",
       "      <td>14.607143</td>\n",
       "      <td>14.621429</td>\n",
       "      <td>14.686786</td>\n",
       "      <td>302220800.0</td>\n",
       "      <td>12.575915</td>\n",
       "    </tr>\n",
       "    <tr>\n",
       "      <th>2012-01-04</th>\n",
       "      <td>14.810000</td>\n",
       "      <td>14.617143</td>\n",
       "      <td>14.642857</td>\n",
       "      <td>14.765714</td>\n",
       "      <td>260022000.0</td>\n",
       "      <td>12.643497</td>\n",
       "    </tr>\n",
       "    <tr>\n",
       "      <th>2012-01-05</th>\n",
       "      <td>14.948214</td>\n",
       "      <td>14.738214</td>\n",
       "      <td>14.819643</td>\n",
       "      <td>14.929643</td>\n",
       "      <td>271269600.0</td>\n",
       "      <td>12.783867</td>\n",
       "    </tr>\n",
       "    <tr>\n",
       "      <th>2012-01-06</th>\n",
       "      <td>15.098214</td>\n",
       "      <td>14.972143</td>\n",
       "      <td>14.991786</td>\n",
       "      <td>15.085714</td>\n",
       "      <td>318292800.0</td>\n",
       "      <td>12.917508</td>\n",
       "    </tr>\n",
       "    <tr>\n",
       "      <th>2012-01-09</th>\n",
       "      <td>15.276786</td>\n",
       "      <td>15.048214</td>\n",
       "      <td>15.196429</td>\n",
       "      <td>15.061786</td>\n",
       "      <td>394024400.0</td>\n",
       "      <td>12.897018</td>\n",
       "    </tr>\n",
       "  </tbody>\n",
       "</table>\n",
       "</div>"
      ],
      "text/plain": [
       "                 High        Low       Open      Close       Volume  Adj Close\n",
       "Date                                                                          \n",
       "2012-01-03  14.732143  14.607143  14.621429  14.686786  302220800.0  12.575915\n",
       "2012-01-04  14.810000  14.617143  14.642857  14.765714  260022000.0  12.643497\n",
       "2012-01-05  14.948214  14.738214  14.819643  14.929643  271269600.0  12.783867\n",
       "2012-01-06  15.098214  14.972143  14.991786  15.085714  318292800.0  12.917508\n",
       "2012-01-09  15.276786  15.048214  15.196429  15.061786  394024400.0  12.897018"
      ]
     },
     "execution_count": 1335,
     "metadata": {},
     "output_type": "execute_result"
    }
   ],
   "source": [
    "df.head()"
   ]
  },
  {
   "cell_type": "code",
   "execution_count": 1336,
   "id": "fe9f1ef4",
   "metadata": {},
   "outputs": [
    {
     "data": {
      "text/html": [
       "<div>\n",
       "<style scoped>\n",
       "    .dataframe tbody tr th:only-of-type {\n",
       "        vertical-align: middle;\n",
       "    }\n",
       "\n",
       "    .dataframe tbody tr th {\n",
       "        vertical-align: top;\n",
       "    }\n",
       "\n",
       "    .dataframe thead th {\n",
       "        text-align: right;\n",
       "    }\n",
       "</style>\n",
       "<table border=\"1\" class=\"dataframe\">\n",
       "  <thead>\n",
       "    <tr style=\"text-align: right;\">\n",
       "      <th></th>\n",
       "      <th>High</th>\n",
       "      <th>Low</th>\n",
       "      <th>Open</th>\n",
       "      <th>Close</th>\n",
       "      <th>Volume</th>\n",
       "      <th>Adj Close</th>\n",
       "    </tr>\n",
       "    <tr>\n",
       "      <th>Date</th>\n",
       "      <th></th>\n",
       "      <th></th>\n",
       "      <th></th>\n",
       "      <th></th>\n",
       "      <th></th>\n",
       "      <th></th>\n",
       "    </tr>\n",
       "  </thead>\n",
       "  <tbody>\n",
       "    <tr>\n",
       "      <th>2021-12-17</th>\n",
       "      <td>173.470001</td>\n",
       "      <td>169.690002</td>\n",
       "      <td>169.929993</td>\n",
       "      <td>171.139999</td>\n",
       "      <td>195432700.0</td>\n",
       "      <td>170.922241</td>\n",
       "    </tr>\n",
       "    <tr>\n",
       "      <th>2021-12-20</th>\n",
       "      <td>170.580002</td>\n",
       "      <td>167.460007</td>\n",
       "      <td>168.279999</td>\n",
       "      <td>169.750000</td>\n",
       "      <td>107499100.0</td>\n",
       "      <td>169.533997</td>\n",
       "    </tr>\n",
       "    <tr>\n",
       "      <th>2021-12-21</th>\n",
       "      <td>173.199997</td>\n",
       "      <td>169.119995</td>\n",
       "      <td>171.559998</td>\n",
       "      <td>172.990005</td>\n",
       "      <td>91185900.0</td>\n",
       "      <td>172.769882</td>\n",
       "    </tr>\n",
       "    <tr>\n",
       "      <th>2021-12-22</th>\n",
       "      <td>175.860001</td>\n",
       "      <td>172.149994</td>\n",
       "      <td>173.039993</td>\n",
       "      <td>175.639999</td>\n",
       "      <td>92135300.0</td>\n",
       "      <td>175.416504</td>\n",
       "    </tr>\n",
       "    <tr>\n",
       "      <th>2021-12-23</th>\n",
       "      <td>176.850006</td>\n",
       "      <td>175.270004</td>\n",
       "      <td>175.850006</td>\n",
       "      <td>176.279999</td>\n",
       "      <td>68356600.0</td>\n",
       "      <td>176.055695</td>\n",
       "    </tr>\n",
       "    <tr>\n",
       "      <th>2021-12-27</th>\n",
       "      <td>180.419998</td>\n",
       "      <td>177.070007</td>\n",
       "      <td>177.089996</td>\n",
       "      <td>180.330002</td>\n",
       "      <td>74919600.0</td>\n",
       "      <td>180.100540</td>\n",
       "    </tr>\n",
       "    <tr>\n",
       "      <th>2021-12-28</th>\n",
       "      <td>181.330002</td>\n",
       "      <td>178.529999</td>\n",
       "      <td>180.160004</td>\n",
       "      <td>179.289993</td>\n",
       "      <td>79144300.0</td>\n",
       "      <td>179.061859</td>\n",
       "    </tr>\n",
       "    <tr>\n",
       "      <th>2021-12-29</th>\n",
       "      <td>180.630005</td>\n",
       "      <td>178.139999</td>\n",
       "      <td>179.330002</td>\n",
       "      <td>179.380005</td>\n",
       "      <td>62348900.0</td>\n",
       "      <td>179.151749</td>\n",
       "    </tr>\n",
       "    <tr>\n",
       "      <th>2021-12-30</th>\n",
       "      <td>180.570007</td>\n",
       "      <td>178.089996</td>\n",
       "      <td>179.470001</td>\n",
       "      <td>178.199997</td>\n",
       "      <td>59773000.0</td>\n",
       "      <td>177.973251</td>\n",
       "    </tr>\n",
       "    <tr>\n",
       "      <th>2021-12-31</th>\n",
       "      <td>179.229996</td>\n",
       "      <td>177.259995</td>\n",
       "      <td>178.089996</td>\n",
       "      <td>177.570007</td>\n",
       "      <td>64062300.0</td>\n",
       "      <td>177.344055</td>\n",
       "    </tr>\n",
       "  </tbody>\n",
       "</table>\n",
       "</div>"
      ],
      "text/plain": [
       "                  High         Low        Open       Close       Volume  \\\n",
       "Date                                                                      \n",
       "2021-12-17  173.470001  169.690002  169.929993  171.139999  195432700.0   \n",
       "2021-12-20  170.580002  167.460007  168.279999  169.750000  107499100.0   \n",
       "2021-12-21  173.199997  169.119995  171.559998  172.990005   91185900.0   \n",
       "2021-12-22  175.860001  172.149994  173.039993  175.639999   92135300.0   \n",
       "2021-12-23  176.850006  175.270004  175.850006  176.279999   68356600.0   \n",
       "2021-12-27  180.419998  177.070007  177.089996  180.330002   74919600.0   \n",
       "2021-12-28  181.330002  178.529999  180.160004  179.289993   79144300.0   \n",
       "2021-12-29  180.630005  178.139999  179.330002  179.380005   62348900.0   \n",
       "2021-12-30  180.570007  178.089996  179.470001  178.199997   59773000.0   \n",
       "2021-12-31  179.229996  177.259995  178.089996  177.570007   64062300.0   \n",
       "\n",
       "             Adj Close  \n",
       "Date                    \n",
       "2021-12-17  170.922241  \n",
       "2021-12-20  169.533997  \n",
       "2021-12-21  172.769882  \n",
       "2021-12-22  175.416504  \n",
       "2021-12-23  176.055695  \n",
       "2021-12-27  180.100540  \n",
       "2021-12-28  179.061859  \n",
       "2021-12-29  179.151749  \n",
       "2021-12-30  177.973251  \n",
       "2021-12-31  177.344055  "
      ]
     },
     "execution_count": 1336,
     "metadata": {},
     "output_type": "execute_result"
    }
   ],
   "source": [
    "df.tail(10)"
   ]
  },
  {
   "cell_type": "code",
   "execution_count": 1337,
   "id": "d2ea7f07",
   "metadata": {},
   "outputs": [
    {
     "data": {
      "text/plain": [
       "(2517, 6)"
      ]
     },
     "execution_count": 1337,
     "metadata": {},
     "output_type": "execute_result"
    }
   ],
   "source": [
    "df.shape"
   ]
  },
  {
   "cell_type": "code",
   "execution_count": 1338,
   "id": "5e8cdda2",
   "metadata": {},
   "outputs": [
    {
     "data": {
      "text/plain": [
       "<function matplotlib.pyplot.show(close=None, block=None)>"
      ]
     },
     "execution_count": 1338,
     "metadata": {},
     "output_type": "execute_result"
    },
    {
     "data": {
      "image/png": "[encoded data removed]",
      "text/plain": [
       "<Figure size 1152x576 with 1 Axes>"
      ]
     },
     "metadata": {
      "needs_background": "light"
     },
     "output_type": "display_data"
    }
   ],
   "source": [
    "plt.figure(figsize=(16,8))\n",
    "plt.plot(df['Close'])\n",
    "plt.plot(df['Open'])\n",
    "plt.legend(['Close','Open'], loc='upper left')\n",
    "plt.xlabel('date', fontsize=18)\n",
    "plt.title('Close Stock Price Histroy Diagram', fontsize=20)\n",
    "plt.ylabel('Close price in USD ($)', fontsize=18)\n",
    "plt.show"
   ]
  },
  {
   "cell_type": "code",
   "execution_count": 1339,
   "id": "3e85a5e4",
   "metadata": {},
   "outputs": [
    {
     "data": {
      "text/plain": [
       "(2517, 6)"
      ]
     },
     "execution_count": 1339,
     "metadata": {},
     "output_type": "execute_result"
    }
   ],
   "source": [
    "df.shape"
   ]
  },
  {
   "cell_type": "code",
   "execution_count": 1340,
   "id": "bda7cf8a",
   "metadata": {},
   "outputs": [],
   "source": [
    "#scalling the data / converting data between 0 and 1\n",
    "scaler = MinMaxScaler(feature_range=(0,1))"
   ]
  },
  {
   "cell_type": "code",
   "execution_count": 1341,
   "id": "ede33ce6",
   "metadata": {},
   "outputs": [],
   "source": [
    "scaled_data = scaler.fit_transform(df['Close'].values.reshape(-1,1))"
   ]
  },
  {
   "cell_type": "code",
   "execution_count": 1342,
   "id": "d95f2c54",
   "metadata": {},
   "outputs": [
    {
     "name": "stdout",
     "output_type": "stream",
     "text": [
      "[array([0.00444329, 0.00491767, 0.00590292, 0.00684095, 0.00669713,\n",
      "       0.00702125, 0.00687314, 0.00662415, 0.006285  , 0.00733465,\n",
      "       0.00828126, 0.00798934, 0.00639018, 0.00791635, 0.00641379,\n",
      "       0.0120484 , 0.01161266, 0.01218148, 0.01341144, 0.01415627,\n",
      "       0.01409403, 0.01386435, 0.01484316, 0.01576401, 0.01680723,\n",
      "       0.01849225, 0.02203185, 0.02208551, 0.02405602, 0.02552852,\n",
      "       0.02299779, 0.0239723 , 0.02395298, 0.0266855 , 0.02629698,\n",
      "       0.02701606, 0.02830826, 0.02902735, 0.03109874, 0.03260773,\n",
      "       0.03304348, 0.03319588, 0.03061578, 0.02999328, 0.03008558,\n",
      "       0.03251115, 0.03319374, 0.03465981, 0.0381157 , 0.04272642,\n",
      "       0.04186352, 0.04186566, 0.04519921, 0.04624242, 0.04549971,\n",
      "       0.04482142, 0.04411522, 0.04646135, 0.04807125, 0.04874525])]\n",
      "[0.047079553022239484]\n"
     ]
    }
   ],
   "source": [
    "#spliting data into trainset and test set\n",
    "prediction_days = 60\n",
    "x_train = []\n",
    "y_train = []\n",
    "\n",
    "for i in range(prediction_days, len(train_data)):\n",
    "    x_train.append(scaled_data[i-prediction_days:i,0])\n",
    "    y_train.append(scaled_data[i,0])\n",
    "    if i<=prediction_days:\n",
    "        print(x_train)\n",
    "        print(y_train)"
   ]
  },
  {
   "cell_type": "code",
   "execution_count": 1343,
   "id": "7af59d5a",
   "metadata": {},
   "outputs": [],
   "source": [
    "x_train, y_train = np.array(x_train), np.array(y_train)"
   ]
  },
  {
   "cell_type": "code",
   "execution_count": 1344,
   "id": "375ec5f0",
   "metadata": {},
   "outputs": [
    {
     "data": {
      "text/plain": [
       "((2008, 60), (2008,))"
      ]
     },
     "execution_count": 1344,
     "metadata": {},
     "output_type": "execute_result"
    }
   ],
   "source": [
    "x_train.shape, y_train.shape"
   ]
  },
  {
   "cell_type": "code",
   "execution_count": 1345,
   "id": "4f1c97e3",
   "metadata": {},
   "outputs": [],
   "source": [
    "x_train = np.reshape(x_train,(x_train.shape[0], x_train.shape[1],1))"
   ]
  },
  {
   "cell_type": "code",
   "execution_count": 1346,
   "id": "98c543ad",
   "metadata": {},
   "outputs": [
    {
     "data": {
      "text/plain": [
       "(2008, 60, 1)"
      ]
     },
     "execution_count": 1346,
     "metadata": {},
     "output_type": "execute_result"
    }
   ],
   "source": [
    "x_train.shape\n"
   ]
  },
  {
   "cell_type": "code",
   "execution_count": 1347,
   "id": "e5624d32",
   "metadata": {},
   "outputs": [],
   "source": [
    "#building the model\n",
    "model = Sequential()\n",
    "\n",
    "model.add(LSTM(units=50, return_sequences = True, input_shape=(x_train.shape[1], 1)))\n",
    "model.add(Dropout(0.2))\n",
    "\n",
    "model.add(LSTM(units=50, return_sequences= True ))\n",
    "model.add(Dropout(0.2))\n",
    "\n",
    "#model.add(LSTM(units=50, return_sequences= True ))\n",
    "#model.add(Dropout(0.2))\n",
    "\n",
    "model.add(LSTM(units=50))\n",
    "model.add(Dropout(0.2))\n",
    "\n",
    "\n",
    "model.add(Dense(1))"
   ]
  },
  {
   "cell_type": "code",
   "execution_count": 1348,
   "id": "e6dbd59b",
   "metadata": {},
   "outputs": [],
   "source": [
    "model.compile(optimizer='adam', loss ='mean_squared_error')"
   ]
  },
  {
   "cell_type": "code",
   "execution_count": 1349,
   "id": "f0d3c8d0",
   "metadata": {},
   "outputs": [
    {
     "name": "stdout",
     "output_type": "stream",
     "text": [
      "Epoch 1/100\n",
      "63/63 [==============================] - 17s 99ms/step - loss: 0.0016\n",
      "Epoch 2/100\n",
      "63/63 [==============================] - 6s 95ms/step - loss: 4.0451e-04\n",
      "Epoch 3/100\n",
      "63/63 [==============================] - 6s 93ms/step - loss: 3.1988e-04\n",
      "Epoch 4/100\n",
      "63/63 [==============================] - 6s 90ms/step - loss: 2.6632e-04\n",
      "Epoch 5/100\n",
      "63/63 [==============================] - 6s 89ms/step - loss: 2.8331e-04\n",
      "Epoch 6/100\n",
      "63/63 [==============================] - 7s 112ms/step - loss: 2.3093e-04\n",
      "Epoch 7/100\n",
      "63/63 [==============================] - 6s 92ms/step - loss: 2.1023e-04\n",
      "Epoch 8/100\n",
      "63/63 [==============================] - 6s 88ms/step - loss: 2.4922e-04\n",
      "Epoch 9/100\n",
      "63/63 [==============================] - 6s 100ms/step - loss: 2.3294e-04\n",
      "Epoch 10/100\n",
      "63/63 [==============================] - 6s 89ms/step - loss: 1.9223e-04\n",
      "Epoch 11/100\n",
      "63/63 [==============================] - 6s 88ms/step - loss: 2.3121e-04\n",
      "Epoch 12/100\n",
      "63/63 [==============================] - 6s 87ms/step - loss: 2.0574e-04\n",
      "Epoch 13/100\n",
      "63/63 [==============================] - 6s 88ms/step - loss: 1.9213e-04\n",
      "Epoch 14/100\n",
      "63/63 [==============================] - 6s 89ms/step - loss: 2.3548e-04\n",
      "Epoch 15/100\n",
      "63/63 [==============================] - 6s 91ms/step - loss: 1.7526e-04\n",
      "Epoch 16/100\n",
      "63/63 [==============================] - 6s 88ms/step - loss: 1.8365e-04\n",
      "Epoch 17/100\n",
      "63/63 [==============================] - 6s 91ms/step - loss: 1.5512e-04\n",
      "Epoch 18/100\n",
      "63/63 [==============================] - 6s 91ms/step - loss: 1.5538e-04\n",
      "Epoch 19/100\n",
      "63/63 [==============================] - 6s 89ms/step - loss: 1.6800e-04\n",
      "Epoch 20/100\n",
      "63/63 [==============================] - 6s 90ms/step - loss: 1.5392e-04\n",
      "Epoch 21/100\n",
      "63/63 [==============================] - 6s 89ms/step - loss: 1.6180e-04\n",
      "Epoch 22/100\n",
      "63/63 [==============================] - 6s 90ms/step - loss: 1.4758e-04\n",
      "Epoch 23/100\n",
      "63/63 [==============================] - 6s 89ms/step - loss: 1.5682e-04\n",
      "Epoch 24/100\n",
      "63/63 [==============================] - 6s 90ms/step - loss: 1.4298e-04\n",
      "Epoch 25/100\n",
      "63/63 [==============================] - 6s 92ms/step - loss: 1.5485e-04\n",
      "Epoch 26/100\n",
      "63/63 [==============================] - 6s 90ms/step - loss: 1.3164e-04\n",
      "Epoch 27/100\n",
      "63/63 [==============================] - 7s 104ms/step - loss: 1.3543e-04\n",
      "Epoch 28/100\n",
      "63/63 [==============================] - 8s 122ms/step - loss: 1.2702e-04\n",
      "Epoch 29/100\n",
      "63/63 [==============================] - 6s 94ms/step - loss: 1.3007e-04\n",
      "Epoch 30/100\n",
      "63/63 [==============================] - 6s 92ms/step - loss: 1.4379e-04\n",
      "Epoch 31/100\n",
      "63/63 [==============================] - 6s 93ms/step - loss: 1.2485e-04\n",
      "Epoch 32/100\n",
      "63/63 [==============================] - 6s 95ms/step - loss: 1.3072e-04\n",
      "Epoch 33/100\n",
      "63/63 [==============================] - 6s 90ms/step - loss: 1.4349e-04\n",
      "Epoch 34/100\n",
      "63/63 [==============================] - 6s 91ms/step - loss: 1.2044e-04\n",
      "Epoch 35/100\n",
      "63/63 [==============================] - 6s 90ms/step - loss: 1.3885e-04\n",
      "Epoch 36/100\n",
      "63/63 [==============================] - 6s 91ms/step - loss: 1.4408e-04\n",
      "Epoch 37/100\n",
      "63/63 [==============================] - 6s 91ms/step - loss: 1.2752e-04\n",
      "Epoch 38/100\n",
      "63/63 [==============================] - 6s 93ms/step - loss: 1.1837e-04\n",
      "Epoch 39/100\n",
      "63/63 [==============================] - 6s 90ms/step - loss: 1.2286e-04\n",
      "Epoch 40/100\n",
      "63/63 [==============================] - 6s 92ms/step - loss: 1.1531e-04\n",
      "Epoch 41/100\n",
      "63/63 [==============================] - 6s 101ms/step - loss: 1.2091e-04\n",
      "Epoch 42/100\n",
      "63/63 [==============================] - 6s 90ms/step - loss: 1.1927e-04\n",
      "Epoch 43/100\n",
      "63/63 [==============================] - 6s 93ms/step - loss: 1.2823e-04\n",
      "Epoch 44/100\n",
      "63/63 [==============================] - 8s 125ms/step - loss: 1.3063e-04\n",
      "Epoch 45/100\n",
      "63/63 [==============================] - 9s 147ms/step - loss: 1.1166e-04\n",
      "Epoch 46/100\n",
      "63/63 [==============================] - 8s 119ms/step - loss: 1.1370e-04\n",
      "Epoch 47/100\n",
      "63/63 [==============================] - 6s 90ms/step - loss: 1.2643e-04\n",
      "Epoch 48/100\n",
      "63/63 [==============================] - 6s 88ms/step - loss: 1.1533e-04\n",
      "Epoch 49/100\n",
      "63/63 [==============================] - 6s 89ms/step - loss: 1.2715e-04\n",
      "Epoch 50/100\n",
      "63/63 [==============================] - 6s 87ms/step - loss: 1.2299e-04\n",
      "Epoch 51/100\n",
      "63/63 [==============================] - 6s 88ms/step - loss: 1.0447e-04\n",
      "Epoch 52/100\n",
      "63/63 [==============================] - 5s 87ms/step - loss: 1.0766e-04\n",
      "Epoch 53/100\n",
      "63/63 [==============================] - 6s 89ms/step - loss: 1.1840e-04\n",
      "Epoch 54/100\n",
      "63/63 [==============================] - 6s 103ms/step - loss: 1.1536e-04\n",
      "Epoch 55/100\n",
      "63/63 [==============================] - 7s 115ms/step - loss: 1.2995e-04\n",
      "Epoch 56/100\n",
      "63/63 [==============================] - 6s 92ms/step - loss: 1.2727e-04\n",
      "Epoch 57/100\n",
      "63/63 [==============================] - 6s 92ms/step - loss: 1.3373e-04\n",
      "Epoch 58/100\n",
      "63/63 [==============================] - 6s 89ms/step - loss: 1.0217e-04\n",
      "Epoch 59/100\n",
      "63/63 [==============================] - 6s 89ms/step - loss: 1.1428e-04\n",
      "Epoch 60/100\n",
      "63/63 [==============================] - 6s 90ms/step - loss: 1.1249e-04\n",
      "Epoch 61/100\n",
      "63/63 [==============================] - 6s 99ms/step - loss: 1.0274e-04\n",
      "Epoch 62/100\n",
      "63/63 [==============================] - 6s 100ms/step - loss: 1.1405e-04\n",
      "Epoch 63/100\n",
      "63/63 [==============================] - 6s 94ms/step - loss: 1.0782e-04\n",
      "Epoch 64/100\n",
      "63/63 [==============================] - 6s 94ms/step - loss: 1.1020e-04\n",
      "Epoch 65/100\n",
      "63/63 [==============================] - 6s 93ms/step - loss: 9.4097e-05\n",
      "Epoch 66/100\n",
      "63/63 [==============================] - 6s 95ms/step - loss: 1.0779e-04\n",
      "Epoch 67/100\n",
      "63/63 [==============================] - 6s 96ms/step - loss: 1.2666e-04\n",
      "Epoch 68/100\n",
      "63/63 [==============================] - 6s 96ms/step - loss: 1.0026e-04\n",
      "Epoch 69/100\n",
      "63/63 [==============================] - 6s 93ms/step - loss: 1.4168e-04\n",
      "Epoch 70/100\n",
      "63/63 [==============================] - 6s 94ms/step - loss: 1.1050e-04\n",
      "Epoch 71/100\n",
      "63/63 [==============================] - 6s 96ms/step - loss: 9.9252e-05\n",
      "Epoch 72/100\n",
      "63/63 [==============================] - 6s 93ms/step - loss: 1.1661e-04\n",
      "Epoch 73/100\n",
      "63/63 [==============================] - 6s 95ms/step - loss: 1.1439e-04\n",
      "Epoch 74/100\n",
      "63/63 [==============================] - 6s 94ms/step - loss: 9.4635e-05\n",
      "Epoch 75/100\n",
      "63/63 [==============================] - 6s 95ms/step - loss: 1.1011e-04\n",
      "Epoch 76/100\n",
      "63/63 [==============================] - 6s 95ms/step - loss: 1.0434e-04\n",
      "Epoch 77/100\n",
      "63/63 [==============================] - 6s 96ms/step - loss: 1.0284e-04\n",
      "Epoch 78/100\n",
      "63/63 [==============================] - 6s 97ms/step - loss: 1.0368e-04\n",
      "Epoch 79/100\n",
      "63/63 [==============================] - 6s 98ms/step - loss: 1.0833e-04\n",
      "Epoch 80/100\n",
      "63/63 [==============================] - 6s 97ms/step - loss: 1.1550e-04\n",
      "Epoch 81/100\n",
      "63/63 [==============================] - 6s 95ms/step - loss: 1.1173e-04\n",
      "Epoch 82/100\n",
      "63/63 [==============================] - 6s 93ms/step - loss: 9.8690e-05\n",
      "Epoch 83/100\n",
      "63/63 [==============================] - 6s 95ms/step - loss: 1.0665e-04\n",
      "Epoch 84/100\n",
      "63/63 [==============================] - 6s 94ms/step - loss: 1.0787e-04\n",
      "Epoch 85/100\n",
      "63/63 [==============================] - 6s 97ms/step - loss: 1.0432e-04\n",
      "Epoch 86/100\n",
      "63/63 [==============================] - 6s 95ms/step - loss: 9.9831e-05\n",
      "Epoch 87/100\n",
      "63/63 [==============================] - 6s 95ms/step - loss: 9.7140e-05\n",
      "Epoch 88/100\n",
      "63/63 [==============================] - 6s 95ms/step - loss: 1.1456e-04\n",
      "Epoch 89/100\n",
      "63/63 [==============================] - 6s 94ms/step - loss: 1.0476e-04\n",
      "Epoch 90/100\n",
      "63/63 [==============================] - 6s 95ms/step - loss: 1.0820e-04\n",
      "Epoch 91/100\n",
      "63/63 [==============================] - 6s 97ms/step - loss: 9.5247e-05\n",
      "Epoch 92/100\n",
      "63/63 [==============================] - 6s 95ms/step - loss: 1.0652e-04\n",
      "Epoch 93/100\n",
      "63/63 [==============================] - 6s 95ms/step - loss: 1.0079e-04\n",
      "Epoch 94/100\n",
      "63/63 [==============================] - 7s 108ms/step - loss: 1.0267e-04\n",
      "Epoch 95/100\n",
      "63/63 [==============================] - 7s 114ms/step - loss: 1.1439e-04\n",
      "Epoch 96/100\n"
     ]
    },
    {
     "name": "stdout",
     "output_type": "stream",
     "text": [
      "63/63 [==============================] - 6s 92ms/step - loss: 1.0128e-04\n",
      "Epoch 97/100\n",
      "63/63 [==============================] - 81s 1s/step - loss: 1.0426e-04\n",
      "Epoch 98/100\n",
      "63/63 [==============================] - 11s 173ms/step - loss: 1.2111e-04\n",
      "Epoch 99/100\n",
      "63/63 [==============================] - 10s 152ms/step - loss: 9.0944e-05\n",
      "Epoch 100/100\n",
      "63/63 [==============================] - 7s 110ms/step - loss: 9.8010e-05\n"
     ]
    },
    {
     "data": {
      "text/plain": [
       "<keras.callbacks.History at 0x7fc872cb0400>"
      ]
     },
     "execution_count": 1349,
     "metadata": {},
     "output_type": "execute_result"
    }
   ],
   "source": [
    "model.fit(x_train, y_train ,batch_size=32 , epochs=100)"
   ]
  },
  {
   "cell_type": "code",
   "execution_count": 1353,
   "id": "11f95c3d",
   "metadata": {},
   "outputs": [],
   "source": [
    "# creating test data\n",
    "test_start = dt.datetime(2020,1,1)\n",
    "test_end = dt.datetime.now()\n",
    "test_data = web.DataReader(company, 'yahoo', test_start, test_end)\n",
    "\n",
    "actual_price = test_data['Close'].values\n",
    "total_dataset = pd.concat((data['Close'], test_data['Close']), axis=0)\n"
   ]
  },
  {
   "cell_type": "code",
   "execution_count": 1354,
   "id": "ab956fb8",
   "metadata": {},
   "outputs": [],
   "source": [
    "model_inputs = total_dataset[len(total_dataset)-len(test_data)-prediction_days:].values\n",
    "\n",
    "model_inputs = model_inputs.reshape(-1,1)\n",
    "model_inputs = scaler.transform(model_inputs)\n"
   ]
  },
  {
   "cell_type": "code",
   "execution_count": 1355,
   "id": "e2e8ab27",
   "metadata": {},
   "outputs": [],
   "source": [
    "x_test=[]\n",
    "\n",
    "for i in range(prediction_days, len(model_inputs)):\n",
    "    x_test.append(model_inputs[i-prediction_days:i,0])\n",
    "\n",
    "\n",
    "x_test = np.array(x_test)\n",
    "x_test = np.reshape(x_test,( x_test.shape[0], x_test.shape[1],1))\n"
   ]
  },
  {
   "cell_type": "code",
   "execution_count": 1356,
   "id": "ac86738f",
   "metadata": {},
   "outputs": [],
   "source": [
    "predicted_price = model.predict(x_test)\n",
    "predicted_price = scaler.inverse_transform(predicted_price)"
   ]
  },
  {
   "cell_type": "code",
   "execution_count": 1357,
   "id": "67d24e49",
   "metadata": {},
   "outputs": [
    {
     "data": {
      "text/plain": [
       "9.657732662887131"
      ]
     },
     "execution_count": 1357,
     "metadata": {},
     "output_type": "execute_result"
    }
   ],
   "source": [
    "rmse = np.sqrt(np.mean(predictions - y_test)**2)\n",
    "rmse"
   ]
  },
  {
   "cell_type": "code",
   "execution_count": 1361,
   "id": "720778a5",
   "metadata": {},
   "outputs": [
    {
     "data": {
      "text/plain": [
       "<function matplotlib.pyplot.show(close=None, block=None)>"
      ]
     },
     "execution_count": 1361,
     "metadata": {},
     "output_type": "execute_result"
    },
    {
     "data": {
      "image/png": "[encoded data removed]",
      "text/plain": [
       "<Figure size 1152x576 with 1 Axes>"
      ]
     },
     "metadata": {
      "needs_background": "light"
     },
     "output_type": "display_data"
    }
   ],
   "source": [
    "plt.figure(figsize=(16,8))\n",
    "plt.plot(actual_price, color='blue', label=f\"actual {company} price\")\n",
    "plt.plot(predicted_price, color='green', label=f\"predicted {company} price\")\n",
    "plt.title(f\"actual and predicted price of {company} company\" )\n",
    "plt.xlabel('Time')\n",
    "plt.ylabel(f\"{company} share price\")\n",
    "plt.legend()\n",
    "plt.show"
   ]
  },
  {
   "cell_type": "markdown",
   "id": "b12732f6",
   "metadata": {},
   "source": [
    "# predict the next day"
   ]
  },
  {
   "cell_type": "code",
   "execution_count": 1366,
   "id": "bdb49d01",
   "metadata": {},
   "outputs": [
    {
     "data": {
      "text/plain": [
       "(1, 59, 1)"
      ]
     },
     "execution_count": 1366,
     "metadata": {},
     "output_type": "execute_result"
    }
   ],
   "source": [
    "real_data =[model_inputs[len(model_inputs) + 1 - prediction_days:len(model_inputs +1), 0 ]]\n",
    "\n",
    "real_data = np.array(real_data)\n",
    "real_data = np.reshape(real_data,( real_data.shape[0], real_data.shape[1], 1))\n",
    "\n",
    "real_data.shape"
   ]
  },
  {
   "cell_type": "code",
   "execution_count": 1367,
   "id": "5b60babe",
   "metadata": {},
   "outputs": [
    {
     "name": "stdout",
     "output_type": "stream",
     "text": [
      "Yesterdays Price: 165.75 2022-04-11 16:01:37.329175\n",
      "Prediction Price: [[159.08864]] 2022-04-12 16:01:37.329764\n"
     ]
    }
   ],
   "source": [
    "prediction = model.predict(real_data)\n",
    "prediction = scaler.inverse_transform(prediction)\n",
    "\n",
    "\n",
    "\n",
    "yesterday_data = actual_price[-1]\n",
    "yesterday_date = dt.datetime.now() - timedelta(days=1)\n",
    "\n",
    "print(f\"Yesterdays Price: {yesterday_data}\", yesterday_date)\n",
    "print(f\"Prediction Price: {prediction}\", dt.datetime.now())"
   ]
  },
  {
   "cell_type": "code",
   "execution_count": 1368,
   "id": "f1c8629e",
   "metadata": {},
   "outputs": [
    {
     "data": {
      "text/plain": [
       "\"appel_quoto = web.DataReader('AAPL', 'yahoo', test_start, test_end)\\nnew_df = appel_quoto.filter(['Close'])\\nlast_60_days = new_df[-60:].values\\nlast_60_days_scaled = scaler.transform(last_60_days)\\nX_test=[]\\nX_test.append(last_60_days_scaled)\\nX_test = np.array(X_test)\\nX_test = np.reshape(X_test,(X_test.shape[0], X_test.shape[1], 1))\\npred_price = model.predict(X_test)\\npred_price = scaler.inverse_transform(pred_price)\\nprint(pred_price)\\n\""
      ]
     },
     "execution_count": 1368,
     "metadata": {},
     "output_type": "execute_result"
    }
   ],
   "source": [
    "'''appel_quoto = web.DataReader('AAPL', 'yahoo', test_start, test_end)\n",
    "new_df = appel_quoto.filter(['Close'])\n",
    "last_60_days = new_df[-60:].values\n",
    "last_60_days_scaled = scaler.transform(last_60_days)\n",
    "X_test=[]\n",
    "X_test.append(last_60_days_scaled)\n",
    "X_test = np.array(X_test)\n",
    "X_test = np.reshape(X_test,(X_test.shape[0], X_test.shape[1], 1))\n",
    "pred_price = model.predict(X_test)\n",
    "pred_price = scaler.inverse_transform(pred_price)\n",
    "print(pred_price)\n",
    "'''"
   ]
  },
  {
   "cell_type": "code",
   "execution_count": 1369,
   "id": "d742aa38",
   "metadata": {},
   "outputs": [],
   "source": [
    "#yesterday = dt.datetime.now() - timedelta(days=1)\n",
    "#apple_quat2 = web.DataReader('AAPL', 'yahoo', yesterday, test_end)\n",
    "#yesterday = new_df[-1:]\n",
    "#print(apple_quat2['Close'])"
   ]
  },
  {
   "cell_type": "code",
   "execution_count": 1370,
   "id": "c2fdd291",
   "metadata": {},
   "outputs": [
    {
     "name": "stdout",
     "output_type": "stream",
     "text": [
      "Model: \"sequential_40\"\n",
      "_________________________________________________________________\n",
      " Layer (type)                Output Shape              Param #   \n",
      "=================================================================\n",
      " lstm_115 (LSTM)             (None, 60, 50)            10400     \n",
      "                                                                 \n",
      " dropout_81 (Dropout)        (None, 60, 50)            0         \n",
      "                                                                 \n",
      " lstm_116 (LSTM)             (None, 60, 50)            20200     \n",
      "                                                                 \n",
      " dropout_82 (Dropout)        (None, 60, 50)            0         \n",
      "                                                                 \n",
      " lstm_117 (LSTM)             (None, 50)                20200     \n",
      "                                                                 \n",
      " dropout_83 (Dropout)        (None, 50)                0         \n",
      "                                                                 \n",
      " dense_62 (Dense)            (None, 1)                 51        \n",
      "                                                                 \n",
      "=================================================================\n",
      "Total params: 50,851\n",
      "Trainable params: 50,851\n",
      "Non-trainable params: 0\n",
      "_________________________________________________________________\n"
     ]
    }
   ],
   "source": [
    "model.summary()"
   ]
  },
  {
   "cell_type": "code",
   "execution_count": null,
   "id": "4b289983",
   "metadata": {},
   "outputs": [],
   "source": []
  },
  {
   "cell_type": "code",
   "execution_count": null,
   "id": "855d4259",
   "metadata": {},
   "outputs": [],
   "source": []
  },
  {
   "cell_type": "code",
   "execution_count": null,
   "id": "4a65f5ac",
   "metadata": {},
   "outputs": [],
   "source": []
  },
  {
   "cell_type": "code",
   "execution_count": null,
   "id": "9a858139",
   "metadata": {},
   "outputs": [],
   "source": []
  },
  {
   "cell_type": "code",
   "execution_count": null,
   "id": "84b107f3",
   "metadata": {},
   "outputs": [],
   "source": []
  },
  {
   "cell_type": "code",
   "execution_count": null,
   "id": "e821b9c7",
   "metadata": {},
   "outputs": [],
   "source": []
  },
  {
   "cell_type": "code",
   "execution_count": null,
   "id": "beb5c92a",
   "metadata": {},
   "outputs": [],
   "source": []
  },
  {
   "cell_type": "code",
   "execution_count": null,
   "id": "bf2540ac",
   "metadata": {},
   "outputs": [],
   "source": []
  },
  {
   "cell_type": "code",
   "execution_count": null,
   "id": "94b5e2be",
   "metadata": {},
   "outputs": [],
   "source": []
  }
 ],
 "metadata": {
  "kernelspec": {
   "display_name": "Python 3",
   "language": "python",
   "name": "python3"
  },
  "language_info": {
   "codemirror_mode": {
    "name": "ipython",
    "version": 3
   },
   "file_extension": ".py",
   "mimetype": "text/x-python",
   "name": "python",
   "nbconvert_exporter": "python",
   "pygments_lexer": "ipython3",
   "version": "3.8.8"
  }
 },
 "nbformat": 4,
 "nbformat_minor": 5
}
